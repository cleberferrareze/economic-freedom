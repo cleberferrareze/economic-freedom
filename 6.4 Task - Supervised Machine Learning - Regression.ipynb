{
 "cells": [
  {
   "cell_type": "markdown",
   "id": "2e1a9c8e",
   "metadata": {},
   "source": [
    "## Analysis Outline - Index of Economic Freedom\n",
    "\n",
    "#### The analysis aims to explore the following hypothesis: \"The higher the Government Integrity, the higher is the Judicial Effectiveness\". It is expected to have a strong positive relationship between Government Integrity and Judicial Effectiveness.\n"
   ]
  },
  {
   "cell_type": "markdown",
   "id": "ce86af05",
   "metadata": {},
   "source": [
    "## Importing libraries"
   ]
  },
  {
   "cell_type": "code",
   "execution_count": 1,
   "id": "073123e5",
   "metadata": {},
   "outputs": [],
   "source": [
    "import pandas as pd\n",
    "import numpy as np\n",
    "import seaborn as sns\n",
    "import matplotlib\n",
    "import matplotlib.pyplot as plt\n",
    "import os\n",
    "import sklearn\n",
    "from sklearn.model_selection import train_test_split \n",
    "from sklearn.linear_model import LinearRegression\n",
    "from sklearn.metrics import mean_squared_error, r2_score\n"
   ]
  },
  {
   "cell_type": "code",
   "execution_count": 2,
   "id": "23c730a7",
   "metadata": {},
   "outputs": [],
   "source": [
    "# This option ensures that the graphs you create are displayed within the notebook without the need to \"call\" them specifically.\n",
    "\n",
    "%matplotlib inline"
   ]
  },
  {
   "cell_type": "markdown",
   "id": "a5390692",
   "metadata": {},
   "source": [
    "## Shortening folder path"
   ]
  },
  {
   "cell_type": "code",
   "execution_count": 3,
   "id": "cc54878c",
   "metadata": {},
   "outputs": [],
   "source": [
    "# Setting up short folder\n",
    "\n",
    "path = r'/Volumes/GoogleDrive/My Drive/Career Foundry/2 Data Immersion/Achievement 6 - Advanced Analytics/Task 6.4'"
   ]
  },
  {
   "cell_type": "code",
   "execution_count": 4,
   "id": "359ae472",
   "metadata": {},
   "outputs": [
    {
     "data": {
      "text/plain": [
       "'/Volumes/GoogleDrive/My Drive/Career Foundry/2 Data Immersion/Achievement 6 - Advanced Analytics/Task 6.4'"
      ]
     },
     "execution_count": 4,
     "metadata": {},
     "output_type": "execute_result"
    }
   ],
   "source": [
    "path"
   ]
  },
  {
   "cell_type": "markdown",
   "id": "279946b0",
   "metadata": {},
   "source": [
    "## Importing dataset"
   ]
  },
  {
   "cell_type": "code",
   "execution_count": 5,
   "id": "2c273ed0",
   "metadata": {},
   "outputs": [],
   "source": [
    "# Importing dataset\n",
    "\n",
    "df_economic_freedom = pd.read_csv(os.path.join(path, 'economic_freedom.csv'))"
   ]
  },
  {
   "cell_type": "markdown",
   "id": "30705b52",
   "metadata": {},
   "source": [
    "## Exploring dataset"
   ]
  },
  {
   "cell_type": "code",
   "execution_count": 6,
   "id": "1d72e0e1",
   "metadata": {},
   "outputs": [
    {
     "data": {
      "text/plain": [
       "(5152, 19)"
      ]
     },
     "execution_count": 6,
     "metadata": {},
     "output_type": "execute_result"
    }
   ],
   "source": [
    "# Counting rows and columns\n",
    "\n",
    "df_economic_freedom.shape"
   ]
  },
  {
   "cell_type": "code",
   "execution_count": 7,
   "id": "7e837b90",
   "metadata": {},
   "outputs": [
    {
     "data": {
      "text/plain": [
       "Index(['Unnamed: 0', 'Region', 'Country', 'Latitude', 'Longitude',\n",
       "       'Index Year', 'Overall Score', 'Property Rights',\n",
       "       'Government Integrity', 'Judicial Effectiveness', 'Tax Burden',\n",
       "       'Government Spending', 'Fiscal Health', 'Business Freedom',\n",
       "       'Labor Freedom', 'Monetary Freedom', 'Trade Freedom',\n",
       "       'Investment Freedom', 'Financial Freedom'],\n",
       "      dtype='object')"
      ]
     },
     "execution_count": 7,
     "metadata": {},
     "output_type": "execute_result"
    }
   ],
   "source": [
    "# Showing columns\n",
    "\n",
    "df_economic_freedom.columns"
   ]
  },
  {
   "cell_type": "code",
   "execution_count": 8,
   "id": "f39b2c7f",
   "metadata": {},
   "outputs": [
    {
     "data": {
      "text/html": [
       "<div>\n",
       "<style scoped>\n",
       "    .dataframe tbody tr th:only-of-type {\n",
       "        vertical-align: middle;\n",
       "    }\n",
       "\n",
       "    .dataframe tbody tr th {\n",
       "        vertical-align: top;\n",
       "    }\n",
       "\n",
       "    .dataframe thead th {\n",
       "        text-align: right;\n",
       "    }\n",
       "</style>\n",
       "<table border=\"1\" class=\"dataframe\">\n",
       "  <thead>\n",
       "    <tr style=\"text-align: right;\">\n",
       "      <th></th>\n",
       "      <th>Unnamed: 0</th>\n",
       "      <th>Region</th>\n",
       "      <th>Country</th>\n",
       "      <th>Latitude</th>\n",
       "      <th>Longitude</th>\n",
       "      <th>Index Year</th>\n",
       "      <th>Overall Score</th>\n",
       "      <th>Property Rights</th>\n",
       "      <th>Government Integrity</th>\n",
       "      <th>Judicial Effectiveness</th>\n",
       "      <th>Tax Burden</th>\n",
       "      <th>Government Spending</th>\n",
       "      <th>Fiscal Health</th>\n",
       "      <th>Business Freedom</th>\n",
       "      <th>Labor Freedom</th>\n",
       "      <th>Monetary Freedom</th>\n",
       "      <th>Trade Freedom</th>\n",
       "      <th>Investment Freedom</th>\n",
       "      <th>Financial Freedom</th>\n",
       "    </tr>\n",
       "  </thead>\n",
       "  <tbody>\n",
       "    <tr>\n",
       "      <th>0</th>\n",
       "      <td>0</td>\n",
       "      <td>Americas</td>\n",
       "      <td>Argentina</td>\n",
       "      <td>-38.416097</td>\n",
       "      <td>-63.616672</td>\n",
       "      <td>2022</td>\n",
       "      <td>50.1</td>\n",
       "      <td>35.1</td>\n",
       "      <td>45.1</td>\n",
       "      <td>57.9</td>\n",
       "      <td>73.3</td>\n",
       "      <td>53.0</td>\n",
       "      <td>16.8</td>\n",
       "      <td>55.1</td>\n",
       "      <td>51.0</td>\n",
       "      <td>37.9</td>\n",
       "      <td>60.6</td>\n",
       "      <td>55.0</td>\n",
       "      <td>60.0</td>\n",
       "    </tr>\n",
       "    <tr>\n",
       "      <th>1</th>\n",
       "      <td>1</td>\n",
       "      <td>Americas</td>\n",
       "      <td>Barbados</td>\n",
       "      <td>13.193887</td>\n",
       "      <td>-59.543198</td>\n",
       "      <td>2022</td>\n",
       "      <td>71.3</td>\n",
       "      <td>72.6</td>\n",
       "      <td>68.7</td>\n",
       "      <td>88.2</td>\n",
       "      <td>80.6</td>\n",
       "      <td>70.8</td>\n",
       "      <td>79.7</td>\n",
       "      <td>64.7</td>\n",
       "      <td>63.4</td>\n",
       "      <td>78.6</td>\n",
       "      <td>58.4</td>\n",
       "      <td>70.0</td>\n",
       "      <td>60.0</td>\n",
       "    </tr>\n",
       "    <tr>\n",
       "      <th>2</th>\n",
       "      <td>2</td>\n",
       "      <td>Americas</td>\n",
       "      <td>Belize</td>\n",
       "      <td>17.189877</td>\n",
       "      <td>-88.497650</td>\n",
       "      <td>2022</td>\n",
       "      <td>56.6</td>\n",
       "      <td>34.7</td>\n",
       "      <td>38.1</td>\n",
       "      <td>70.2</td>\n",
       "      <td>77.0</td>\n",
       "      <td>64.1</td>\n",
       "      <td>37.6</td>\n",
       "      <td>54.0</td>\n",
       "      <td>59.9</td>\n",
       "      <td>82.5</td>\n",
       "      <td>55.6</td>\n",
       "      <td>55.0</td>\n",
       "      <td>50.0</td>\n",
       "    </tr>\n",
       "    <tr>\n",
       "      <th>3</th>\n",
       "      <td>3</td>\n",
       "      <td>Americas</td>\n",
       "      <td>Bolivia</td>\n",
       "      <td>-16.290154</td>\n",
       "      <td>-63.588653</td>\n",
       "      <td>2022</td>\n",
       "      <td>43.0</td>\n",
       "      <td>14.1</td>\n",
       "      <td>28.7</td>\n",
       "      <td>28.4</td>\n",
       "      <td>86.0</td>\n",
       "      <td>58.8</td>\n",
       "      <td>10.9</td>\n",
       "      <td>54.7</td>\n",
       "      <td>46.2</td>\n",
       "      <td>72.8</td>\n",
       "      <td>60.8</td>\n",
       "      <td>15.0</td>\n",
       "      <td>40.0</td>\n",
       "    </tr>\n",
       "    <tr>\n",
       "      <th>4</th>\n",
       "      <td>4</td>\n",
       "      <td>Americas</td>\n",
       "      <td>Brazil</td>\n",
       "      <td>-14.235004</td>\n",
       "      <td>-51.925280</td>\n",
       "      <td>2022</td>\n",
       "      <td>53.3</td>\n",
       "      <td>50.3</td>\n",
       "      <td>40.0</td>\n",
       "      <td>57.2</td>\n",
       "      <td>69.9</td>\n",
       "      <td>53.8</td>\n",
       "      <td>0.4</td>\n",
       "      <td>63.2</td>\n",
       "      <td>55.9</td>\n",
       "      <td>78.4</td>\n",
       "      <td>60.0</td>\n",
       "      <td>60.0</td>\n",
       "      <td>50.0</td>\n",
       "    </tr>\n",
       "  </tbody>\n",
       "</table>\n",
       "</div>"
      ],
      "text/plain": [
       "   Unnamed: 0    Region    Country   Latitude  Longitude  Index Year  \\\n",
       "0           0  Americas  Argentina -38.416097 -63.616672        2022   \n",
       "1           1  Americas   Barbados  13.193887 -59.543198        2022   \n",
       "2           2  Americas     Belize  17.189877 -88.497650        2022   \n",
       "3           3  Americas    Bolivia -16.290154 -63.588653        2022   \n",
       "4           4  Americas     Brazil -14.235004 -51.925280        2022   \n",
       "\n",
       "   Overall Score  Property Rights  Government Integrity  \\\n",
       "0           50.1             35.1                  45.1   \n",
       "1           71.3             72.6                  68.7   \n",
       "2           56.6             34.7                  38.1   \n",
       "3           43.0             14.1                  28.7   \n",
       "4           53.3             50.3                  40.0   \n",
       "\n",
       "   Judicial Effectiveness  Tax Burden  Government Spending  Fiscal Health  \\\n",
       "0                    57.9        73.3                 53.0           16.8   \n",
       "1                    88.2        80.6                 70.8           79.7   \n",
       "2                    70.2        77.0                 64.1           37.6   \n",
       "3                    28.4        86.0                 58.8           10.9   \n",
       "4                    57.2        69.9                 53.8            0.4   \n",
       "\n",
       "   Business Freedom  Labor Freedom  Monetary Freedom  Trade Freedom  \\\n",
       "0              55.1           51.0              37.9           60.6   \n",
       "1              64.7           63.4              78.6           58.4   \n",
       "2              54.0           59.9              82.5           55.6   \n",
       "3              54.7           46.2              72.8           60.8   \n",
       "4              63.2           55.9              78.4           60.0   \n",
       "\n",
       "   Investment Freedom  Financial Freedom  \n",
       "0                55.0               60.0  \n",
       "1                70.0               60.0  \n",
       "2                55.0               50.0  \n",
       "3                15.0               40.0  \n",
       "4                60.0               50.0  "
      ]
     },
     "execution_count": 8,
     "metadata": {},
     "output_type": "execute_result"
    }
   ],
   "source": [
    "# Showing the columns with the first 5 rows of data\n",
    "\n",
    "df_economic_freedom.head()"
   ]
  },
  {
   "cell_type": "code",
   "execution_count": 9,
   "id": "8d8c2937",
   "metadata": {},
   "outputs": [
    {
     "data": {
      "text/plain": [
       "Unnamed: 0                  int64\n",
       "Region                     object\n",
       "Country                    object\n",
       "Latitude                  float64\n",
       "Longitude                 float64\n",
       "Index Year                  int64\n",
       "Overall Score             float64\n",
       "Property Rights           float64\n",
       "Government Integrity      float64\n",
       "Judicial Effectiveness    float64\n",
       "Tax Burden                float64\n",
       "Government Spending       float64\n",
       "Fiscal Health             float64\n",
       "Business Freedom          float64\n",
       "Labor Freedom             float64\n",
       "Monetary Freedom          float64\n",
       "Trade Freedom             float64\n",
       "Investment Freedom        float64\n",
       "Financial Freedom         float64\n",
       "dtype: object"
      ]
     },
     "execution_count": 9,
     "metadata": {},
     "output_type": "execute_result"
    }
   ],
   "source": [
    "# Checking the columns formats\n",
    "\n",
    "df_economic_freedom.dtypes"
   ]
  },
  {
   "cell_type": "code",
   "execution_count": 10,
   "id": "86627aaa",
   "metadata": {},
   "outputs": [
    {
     "data": {
      "text/plain": [
       "Unnamed: 0                   0\n",
       "Region                       0\n",
       "Country                      0\n",
       "Latitude                     0\n",
       "Longitude                    0\n",
       "Index Year                   0\n",
       "Overall Score                0\n",
       "Property Rights              0\n",
       "Government Integrity         0\n",
       "Judicial Effectiveness    4053\n",
       "Tax Burden                 518\n",
       "Government Spending        502\n",
       "Fiscal Health             4060\n",
       "Business Freedom           485\n",
       "Labor Freedom             1979\n",
       "Monetary Freedom           496\n",
       "Trade Freedom              511\n",
       "Investment Freedom         496\n",
       "Financial Freedom          518\n",
       "dtype: int64"
      ]
     },
     "execution_count": 10,
     "metadata": {},
     "output_type": "execute_result"
    }
   ],
   "source": [
    "# Checking missing values\n",
    "\n",
    "df_economic_freedom.isnull().sum()"
   ]
  },
  {
   "cell_type": "markdown",
   "id": "3a6f888a",
   "metadata": {},
   "source": [
    "## Cleaning data"
   ]
  },
  {
   "cell_type": "code",
   "execution_count": 11,
   "id": "37e1d4b9",
   "metadata": {},
   "outputs": [],
   "source": [
    "# Adding median values to \"Judicial Effectiveness\" \n",
    "\n",
    "df_economic_freedom['Judicial Effectiveness'].fillna(df_economic_freedom['Judicial Effectiveness'].median(), inplace=True)\n"
   ]
  },
  {
   "cell_type": "code",
   "execution_count": 12,
   "id": "7062d0a6",
   "metadata": {},
   "outputs": [
    {
     "data": {
      "text/plain": [
       "Unnamed: 0                   0\n",
       "Region                       0\n",
       "Country                      0\n",
       "Latitude                     0\n",
       "Longitude                    0\n",
       "Index Year                   0\n",
       "Overall Score                0\n",
       "Property Rights              0\n",
       "Government Integrity         0\n",
       "Judicial Effectiveness       0\n",
       "Tax Burden                 518\n",
       "Government Spending        502\n",
       "Fiscal Health             4060\n",
       "Business Freedom           485\n",
       "Labor Freedom             1979\n",
       "Monetary Freedom           496\n",
       "Trade Freedom              511\n",
       "Investment Freedom         496\n",
       "Financial Freedom          518\n",
       "dtype: int64"
      ]
     },
     "execution_count": 12,
     "metadata": {},
     "output_type": "execute_result"
    }
   ],
   "source": [
    "# Checking Judicial Effectiveness column\n",
    "\n",
    "df_economic_freedom.isnull().sum()"
   ]
  },
  {
   "cell_type": "code",
   "execution_count": 13,
   "id": "1eb1df43",
   "metadata": {},
   "outputs": [],
   "source": [
    "# Dropping the index column\n",
    "\n",
    "df_economic_freedom.drop(df_economic_freedom.columns[0], axis=1, inplace =True)"
   ]
  },
  {
   "cell_type": "code",
   "execution_count": 14,
   "id": "95616f8e",
   "metadata": {},
   "outputs": [
    {
     "data": {
      "text/html": [
       "<div>\n",
       "<style scoped>\n",
       "    .dataframe tbody tr th:only-of-type {\n",
       "        vertical-align: middle;\n",
       "    }\n",
       "\n",
       "    .dataframe tbody tr th {\n",
       "        vertical-align: top;\n",
       "    }\n",
       "\n",
       "    .dataframe thead th {\n",
       "        text-align: right;\n",
       "    }\n",
       "</style>\n",
       "<table border=\"1\" class=\"dataframe\">\n",
       "  <thead>\n",
       "    <tr style=\"text-align: right;\">\n",
       "      <th></th>\n",
       "      <th>Region</th>\n",
       "      <th>Country</th>\n",
       "      <th>Latitude</th>\n",
       "      <th>Longitude</th>\n",
       "      <th>Index Year</th>\n",
       "      <th>Overall Score</th>\n",
       "      <th>Property Rights</th>\n",
       "      <th>Government Integrity</th>\n",
       "      <th>Judicial Effectiveness</th>\n",
       "      <th>Tax Burden</th>\n",
       "      <th>Government Spending</th>\n",
       "      <th>Fiscal Health</th>\n",
       "      <th>Business Freedom</th>\n",
       "      <th>Labor Freedom</th>\n",
       "      <th>Monetary Freedom</th>\n",
       "      <th>Trade Freedom</th>\n",
       "      <th>Investment Freedom</th>\n",
       "      <th>Financial Freedom</th>\n",
       "    </tr>\n",
       "  </thead>\n",
       "  <tbody>\n",
       "    <tr>\n",
       "      <th>0</th>\n",
       "      <td>Americas</td>\n",
       "      <td>Argentina</td>\n",
       "      <td>-38.416097</td>\n",
       "      <td>-63.616672</td>\n",
       "      <td>2022</td>\n",
       "      <td>50.1</td>\n",
       "      <td>35.1</td>\n",
       "      <td>45.1</td>\n",
       "      <td>57.9</td>\n",
       "      <td>73.3</td>\n",
       "      <td>53.0</td>\n",
       "      <td>16.8</td>\n",
       "      <td>55.1</td>\n",
       "      <td>51.0</td>\n",
       "      <td>37.9</td>\n",
       "      <td>60.6</td>\n",
       "      <td>55.0</td>\n",
       "      <td>60.0</td>\n",
       "    </tr>\n",
       "    <tr>\n",
       "      <th>1</th>\n",
       "      <td>Americas</td>\n",
       "      <td>Barbados</td>\n",
       "      <td>13.193887</td>\n",
       "      <td>-59.543198</td>\n",
       "      <td>2022</td>\n",
       "      <td>71.3</td>\n",
       "      <td>72.6</td>\n",
       "      <td>68.7</td>\n",
       "      <td>88.2</td>\n",
       "      <td>80.6</td>\n",
       "      <td>70.8</td>\n",
       "      <td>79.7</td>\n",
       "      <td>64.7</td>\n",
       "      <td>63.4</td>\n",
       "      <td>78.6</td>\n",
       "      <td>58.4</td>\n",
       "      <td>70.0</td>\n",
       "      <td>60.0</td>\n",
       "    </tr>\n",
       "    <tr>\n",
       "      <th>2</th>\n",
       "      <td>Americas</td>\n",
       "      <td>Belize</td>\n",
       "      <td>17.189877</td>\n",
       "      <td>-88.497650</td>\n",
       "      <td>2022</td>\n",
       "      <td>56.6</td>\n",
       "      <td>34.7</td>\n",
       "      <td>38.1</td>\n",
       "      <td>70.2</td>\n",
       "      <td>77.0</td>\n",
       "      <td>64.1</td>\n",
       "      <td>37.6</td>\n",
       "      <td>54.0</td>\n",
       "      <td>59.9</td>\n",
       "      <td>82.5</td>\n",
       "      <td>55.6</td>\n",
       "      <td>55.0</td>\n",
       "      <td>50.0</td>\n",
       "    </tr>\n",
       "    <tr>\n",
       "      <th>3</th>\n",
       "      <td>Americas</td>\n",
       "      <td>Bolivia</td>\n",
       "      <td>-16.290154</td>\n",
       "      <td>-63.588653</td>\n",
       "      <td>2022</td>\n",
       "      <td>43.0</td>\n",
       "      <td>14.1</td>\n",
       "      <td>28.7</td>\n",
       "      <td>28.4</td>\n",
       "      <td>86.0</td>\n",
       "      <td>58.8</td>\n",
       "      <td>10.9</td>\n",
       "      <td>54.7</td>\n",
       "      <td>46.2</td>\n",
       "      <td>72.8</td>\n",
       "      <td>60.8</td>\n",
       "      <td>15.0</td>\n",
       "      <td>40.0</td>\n",
       "    </tr>\n",
       "    <tr>\n",
       "      <th>4</th>\n",
       "      <td>Americas</td>\n",
       "      <td>Brazil</td>\n",
       "      <td>-14.235004</td>\n",
       "      <td>-51.925280</td>\n",
       "      <td>2022</td>\n",
       "      <td>53.3</td>\n",
       "      <td>50.3</td>\n",
       "      <td>40.0</td>\n",
       "      <td>57.2</td>\n",
       "      <td>69.9</td>\n",
       "      <td>53.8</td>\n",
       "      <td>0.4</td>\n",
       "      <td>63.2</td>\n",
       "      <td>55.9</td>\n",
       "      <td>78.4</td>\n",
       "      <td>60.0</td>\n",
       "      <td>60.0</td>\n",
       "      <td>50.0</td>\n",
       "    </tr>\n",
       "  </tbody>\n",
       "</table>\n",
       "</div>"
      ],
      "text/plain": [
       "     Region    Country   Latitude  Longitude  Index Year  Overall Score  \\\n",
       "0  Americas  Argentina -38.416097 -63.616672        2022           50.1   \n",
       "1  Americas   Barbados  13.193887 -59.543198        2022           71.3   \n",
       "2  Americas     Belize  17.189877 -88.497650        2022           56.6   \n",
       "3  Americas    Bolivia -16.290154 -63.588653        2022           43.0   \n",
       "4  Americas     Brazil -14.235004 -51.925280        2022           53.3   \n",
       "\n",
       "   Property Rights  Government Integrity  Judicial Effectiveness  Tax Burden  \\\n",
       "0             35.1                  45.1                    57.9        73.3   \n",
       "1             72.6                  68.7                    88.2        80.6   \n",
       "2             34.7                  38.1                    70.2        77.0   \n",
       "3             14.1                  28.7                    28.4        86.0   \n",
       "4             50.3                  40.0                    57.2        69.9   \n",
       "\n",
       "   Government Spending  Fiscal Health  Business Freedom  Labor Freedom  \\\n",
       "0                 53.0           16.8              55.1           51.0   \n",
       "1                 70.8           79.7              64.7           63.4   \n",
       "2                 64.1           37.6              54.0           59.9   \n",
       "3                 58.8           10.9              54.7           46.2   \n",
       "4                 53.8            0.4              63.2           55.9   \n",
       "\n",
       "   Monetary Freedom  Trade Freedom  Investment Freedom  Financial Freedom  \n",
       "0              37.9           60.6                55.0               60.0  \n",
       "1              78.6           58.4                70.0               60.0  \n",
       "2              82.5           55.6                55.0               50.0  \n",
       "3              72.8           60.8                15.0               40.0  \n",
       "4              78.4           60.0                60.0               50.0  "
      ]
     },
     "execution_count": 14,
     "metadata": {},
     "output_type": "execute_result"
    }
   ],
   "source": [
    "df_economic_freedom.head()"
   ]
  },
  {
   "cell_type": "markdown",
   "id": "51e37a04",
   "metadata": {},
   "source": [
    "## Checking extreme values"
   ]
  },
  {
   "cell_type": "code",
   "execution_count": 15,
   "id": "f3f51d6b",
   "metadata": {},
   "outputs": [
    {
     "name": "stderr",
     "output_type": "stream",
     "text": [
      "/Applications/anaconda3/lib/python3.8/site-packages/seaborn/distributions.py:2557: FutureWarning: `distplot` is a deprecated function and will be removed in a future version. Please adapt your code to use either `displot` (a figure-level function with similar flexibility) or `histplot` (an axes-level function for histograms).\n",
      "  warnings.warn(msg, FutureWarning)\n"
     ]
    },
    {
     "data": {
      "text/plain": [
       "<AxesSubplot:xlabel='Government Integrity', ylabel='Density'>"
      ]
     },
     "execution_count": 15,
     "metadata": {},
     "output_type": "execute_result"
    },
    {
     "data": {
      "image/png": "[encoded data removed]",
      "text/plain": [
       "<Figure size 432x288 with 1 Axes>"
      ]
     },
     "metadata": {
      "needs_background": "light"
     },
     "output_type": "display_data"
    }
   ],
   "source": [
    "# Checking for extreme values in \"Government Integrity\"\n",
    "\n",
    "sns.distplot(df_economic_freedom['Government Integrity'], bins=25)"
   ]
  },
  {
   "cell_type": "code",
   "execution_count": 16,
   "id": "4512843e",
   "metadata": {},
   "outputs": [
    {
     "name": "stderr",
     "output_type": "stream",
     "text": [
      "/Applications/anaconda3/lib/python3.8/site-packages/seaborn/distributions.py:2557: FutureWarning: `distplot` is a deprecated function and will be removed in a future version. Please adapt your code to use either `displot` (a figure-level function with similar flexibility) or `histplot` (an axes-level function for histograms).\n",
      "  warnings.warn(msg, FutureWarning)\n"
     ]
    },
    {
     "data": {
      "text/plain": [
       "<AxesSubplot:xlabel='Judicial Effectiveness', ylabel='Density'>"
      ]
     },
     "execution_count": 16,
     "metadata": {},
     "output_type": "execute_result"
    },
    {
     "data": {
      "image/png": "[encoded data removed]",
      "text/plain": [
       "<Figure size 432x288 with 1 Axes>"
      ]
     },
     "metadata": {
      "needs_background": "light"
     },
     "output_type": "display_data"
    }
   ],
   "source": [
    "# Checking for extreme values in \"Judicial Effectiveness\"\n",
    "\n",
    "sns.distplot(df_economic_freedom['Judicial Effectiveness'], bins=10)"
   ]
  },
  {
   "cell_type": "markdown",
   "id": "8ac26b82",
   "metadata": {},
   "source": [
    "## Describing key variables"
   ]
  },
  {
   "cell_type": "code",
   "execution_count": 17,
   "id": "f6655093",
   "metadata": {},
   "outputs": [
    {
     "data": {
      "text/html": [
       "<div>\n",
       "<style scoped>\n",
       "    .dataframe tbody tr th:only-of-type {\n",
       "        vertical-align: middle;\n",
       "    }\n",
       "\n",
       "    .dataframe tbody tr th {\n",
       "        vertical-align: top;\n",
       "    }\n",
       "\n",
       "    .dataframe thead th {\n",
       "        text-align: right;\n",
       "    }\n",
       "</style>\n",
       "<table border=\"1\" class=\"dataframe\">\n",
       "  <thead>\n",
       "    <tr style=\"text-align: right;\">\n",
       "      <th></th>\n",
       "      <th>Government Integrity</th>\n",
       "      <th>Judicial Effectiveness</th>\n",
       "    </tr>\n",
       "  </thead>\n",
       "  <tbody>\n",
       "    <tr>\n",
       "      <th>count</th>\n",
       "      <td>5152.000000</td>\n",
       "      <td>5152.000000</td>\n",
       "    </tr>\n",
       "    <tr>\n",
       "      <th>mean</th>\n",
       "      <td>40.533443</td>\n",
       "      <td>44.156929</td>\n",
       "    </tr>\n",
       "    <tr>\n",
       "      <th>std</th>\n",
       "      <td>21.370128</td>\n",
       "      <td>9.734983</td>\n",
       "    </tr>\n",
       "    <tr>\n",
       "      <th>min</th>\n",
       "      <td>0.000000</td>\n",
       "      <td>3.900000</td>\n",
       "    </tr>\n",
       "    <tr>\n",
       "      <th>25%</th>\n",
       "      <td>27.000000</td>\n",
       "      <td>43.600000</td>\n",
       "    </tr>\n",
       "    <tr>\n",
       "      <th>50%</th>\n",
       "      <td>34.600000</td>\n",
       "      <td>43.600000</td>\n",
       "    </tr>\n",
       "    <tr>\n",
       "      <th>75%</th>\n",
       "      <td>50.000000</td>\n",
       "      <td>43.600000</td>\n",
       "    </tr>\n",
       "    <tr>\n",
       "      <th>max</th>\n",
       "      <td>100.000000</td>\n",
       "      <td>98.000000</td>\n",
       "    </tr>\n",
       "  </tbody>\n",
       "</table>\n",
       "</div>"
      ],
      "text/plain": [
       "       Government Integrity  Judicial Effectiveness\n",
       "count           5152.000000             5152.000000\n",
       "mean              40.533443               44.156929\n",
       "std               21.370128                9.734983\n",
       "min                0.000000                3.900000\n",
       "25%               27.000000               43.600000\n",
       "50%               34.600000               43.600000\n",
       "75%               50.000000               43.600000\n",
       "max              100.000000               98.000000"
      ]
     },
     "execution_count": 17,
     "metadata": {},
     "output_type": "execute_result"
    }
   ],
   "source": [
    "# Checking the mean, median and max values\n",
    "\n",
    "df_economic_freedom[['Government Integrity', 'Judicial Effectiveness']].describe()"
   ]
  },
  {
   "cell_type": "markdown",
   "id": "53e42c74",
   "metadata": {},
   "source": [
    "## Preparing data for regression analysis"
   ]
  },
  {
   "cell_type": "code",
   "execution_count": 18,
   "id": "b83b9d29",
   "metadata": {},
   "outputs": [
    {
     "data": {
      "image/png": "[encoded data removed]",
      "text/plain": [
       "<Figure size 432x288 with 1 Axes>"
      ]
     },
     "metadata": {
      "needs_background": "light"
     },
     "output_type": "display_data"
    }
   ],
   "source": [
    "# Creating a scatterplot to looking for variables' relationship to be tested\n",
    "# Create a scatterplot using matplotlib for another look at how the chosen variables plot against each other.\n",
    "\n",
    "df_economic_freedom.plot(x = 'Government Integrity', y='Judicial Effectiveness',style='o')\n",
    "plt.title('Government Integrity vs Judicial Effectiveness')  \n",
    "plt.xlabel('Government Integrity')  \n",
    "plt.ylabel('Judicial Effectiveness')  \n",
    "plt.show()\n"
   ]
  },
  {
   "cell_type": "markdown",
   "id": "915492e9",
   "metadata": {},
   "source": [
    "Noted a strong positive relationship between the two variables."
   ]
  },
  {
   "cell_type": "markdown",
   "id": "b214c7ae",
   "metadata": {},
   "source": [
    "## Reshaping the variables"
   ]
  },
  {
   "cell_type": "code",
   "execution_count": 19,
   "id": "757cd20f",
   "metadata": {},
   "outputs": [],
   "source": [
    "# Reshaping the variables into NumPy arrays and putting them into separate objects\n",
    "\n",
    "X = df_economic_freedom['Government Integrity'].values.reshape(-1,1)\n",
    "y = df_economic_freedom['Judicial Effectiveness'].values.reshape(-1,1)"
   ]
  },
  {
   "cell_type": "code",
   "execution_count": 20,
   "id": "65c9efba",
   "metadata": {},
   "outputs": [
    {
     "data": {
      "text/plain": [
       "array([[45.1],\n",
       "       [68.7],\n",
       "       [38.1],\n",
       "       ...,\n",
       "       [30. ],\n",
       "       [30. ],\n",
       "       [30. ]])"
      ]
     },
     "execution_count": 20,
     "metadata": {},
     "output_type": "execute_result"
    }
   ],
   "source": [
    "X"
   ]
  },
  {
   "cell_type": "code",
   "execution_count": 21,
   "id": "d5ccae3b",
   "metadata": {},
   "outputs": [
    {
     "data": {
      "text/plain": [
       "array([[57.9],\n",
       "       [88.2],\n",
       "       [70.2],\n",
       "       ...,\n",
       "       [43.6],\n",
       "       [43.6],\n",
       "       [43.6]])"
      ]
     },
     "execution_count": 21,
     "metadata": {},
     "output_type": "execute_result"
    }
   ],
   "source": [
    "y"
   ]
  },
  {
   "cell_type": "code",
   "execution_count": 22,
   "id": "87750027",
   "metadata": {},
   "outputs": [],
   "source": [
    "# Splitting the data into a training set and a test set.\n",
    "\n",
    "X_train, X_test, y_train, y_test = train_test_split(X, y, test_size=0.3, random_state=0)"
   ]
  },
  {
   "cell_type": "markdown",
   "id": "19e17931",
   "metadata": {},
   "source": [
    "## Regression analysis"
   ]
  },
  {
   "cell_type": "code",
   "execution_count": 23,
   "id": "2397410e",
   "metadata": {},
   "outputs": [],
   "source": [
    "# Creating a regression object.\n",
    "\n",
    "regression = LinearRegression()  # This is the regression object, which will be fit onto the training set."
   ]
  },
  {
   "cell_type": "code",
   "execution_count": 24,
   "id": "63831b9a",
   "metadata": {},
   "outputs": [
    {
     "data": {
      "text/plain": [
       "LinearRegression()"
      ]
     },
     "execution_count": 24,
     "metadata": {},
     "output_type": "execute_result"
    }
   ],
   "source": [
    "# Fit the regression object onto the training set.\n",
    "\n",
    "regression.fit(X_train, y_train) # training the model"
   ]
  },
  {
   "cell_type": "code",
   "execution_count": 25,
   "id": "1a67e0d3",
   "metadata": {},
   "outputs": [],
   "source": [
    "# Predict the values of y using X.\n",
    "# Using the model on the test data set to predict some y values and see how accurate they are.\n",
    "\n",
    "y_predicted = regression.predict(X_test) "
   ]
  },
  {
   "cell_type": "code",
   "execution_count": 26,
   "id": "f95d6171",
   "metadata": {},
   "outputs": [
    {
     "data": {
      "image/png": "[encoded data removed]",
      "text/plain": [
       "<Figure size 432x288 with 1 Axes>"
      ]
     },
     "metadata": {
      "needs_background": "light"
     },
     "output_type": "display_data"
    }
   ],
   "source": [
    "# Creating a plot that shows the regression line from the model on the test set.\n",
    "\n",
    "plot_test = plt\n",
    "plot_test.scatter(X_test, y_test, color='black', s = 15)\n",
    "plot_test.plot(X_test, y_predicted, color='red', linewidth =3)\n",
    "plot_test.title('Government Integrity vs Judicial Effectiveness (Test set)')\n",
    "plot_test.xlabel('Government Integrity')\n",
    "plot_test.ylabel('Judicial Effectiveness')\n",
    "plot_test.show()"
   ]
  },
  {
   "cell_type": "code",
   "execution_count": 27,
   "id": "8a9e2ce8",
   "metadata": {},
   "outputs": [],
   "source": [
    "# Checking the accuracy of the model - mean squared error and R2.\n",
    "# Creating objects that contain the model summary statistics.\n",
    "\n",
    "rmse = mean_squared_error(y_test, y_predicted) # This is the mean squared error\n",
    "r2 = r2_score(y_test, y_predicted) # This is the R2 score. "
   ]
  },
  {
   "cell_type": "code",
   "execution_count": 28,
   "id": "f7d4945a",
   "metadata": {},
   "outputs": [
    {
     "name": "stdout",
     "output_type": "stream",
     "text": [
      "Slope: [[0.17348444]]\n",
      "Mean squared error:  75.01087326934079\n",
      "R2 score:  0.1393162745874318\n"
     ]
    }
   ],
   "source": [
    "# Printing the model's summary statistics. \n",
    "\n",
    "print('Slope:' ,regression.coef_)\n",
    "print('Mean squared error: ', rmse)\n",
    "print('R2 score: ', r2)"
   ]
  },
  {
   "cell_type": "markdown",
   "id": "5ede03ee",
   "metadata": {},
   "source": [
    "The **slope coefficient** indicates how the y variable changes when X changes. \n",
    "\n",
    "The **root mean squared error (MSE)** is an estimator that measures the average of the squared difference between the estimated values and the true values. It states how close a regression line is to a set of points. A small MSE means that the regression line passes fairly close to the observations, making it a good fit. I would interpret the result moderate to high MSE, so **the linear regression line is not a fairly good fit** for this analysis.\n",
    "\n",
    "The **R2 score** or R squared is a metric that shows how well the model explains the variance in the data. It’s a number between 0 and 1, where values closer to 0 indicate a poor fit, and values closer to 1 indicate a good fit. I would interpret the result as **the fit is weak**."
   ]
  },
  {
   "cell_type": "code",
   "execution_count": 29,
   "id": "ee847b06",
   "metadata": {},
   "outputs": [
    {
     "data": {
      "text/plain": [
       "array([[41.93488174],\n",
       "       [43.09722751],\n",
       "       [53.21137054],\n",
       "       ...,\n",
       "       [42.40328974],\n",
       "       [38.93360088],\n",
       "       [38.93360088]])"
      ]
     },
     "execution_count": 29,
     "metadata": {},
     "output_type": "execute_result"
    }
   ],
   "source": [
    "# Making a dataframe of y values and their predicted values to further see the performance of the model \n",
    "\n",
    "y_predicted"
   ]
  },
  {
   "cell_type": "code",
   "execution_count": 30,
   "id": "63fa31c0",
   "metadata": {},
   "outputs": [
    {
     "data": {
      "text/html": [
       "<div>\n",
       "<style scoped>\n",
       "    .dataframe tbody tr th:only-of-type {\n",
       "        vertical-align: middle;\n",
       "    }\n",
       "\n",
       "    .dataframe tbody tr th {\n",
       "        vertical-align: top;\n",
       "    }\n",
       "\n",
       "    .dataframe thead th {\n",
       "        text-align: right;\n",
       "    }\n",
       "</style>\n",
       "<table border=\"1\" class=\"dataframe\">\n",
       "  <thead>\n",
       "    <tr style=\"text-align: right;\">\n",
       "      <th></th>\n",
       "      <th>Actual</th>\n",
       "      <th>Predicted</th>\n",
       "    </tr>\n",
       "  </thead>\n",
       "  <tbody>\n",
       "    <tr>\n",
       "      <th>0</th>\n",
       "      <td>5.0</td>\n",
       "      <td>41.934882</td>\n",
       "    </tr>\n",
       "    <tr>\n",
       "      <th>1</th>\n",
       "      <td>43.6</td>\n",
       "      <td>43.097228</td>\n",
       "    </tr>\n",
       "    <tr>\n",
       "      <th>2</th>\n",
       "      <td>81.2</td>\n",
       "      <td>53.211371</td>\n",
       "    </tr>\n",
       "    <tr>\n",
       "      <th>3</th>\n",
       "      <td>43.6</td>\n",
       "      <td>43.444196</td>\n",
       "    </tr>\n",
       "    <tr>\n",
       "      <th>4</th>\n",
       "      <td>43.6</td>\n",
       "      <td>42.403290</td>\n",
       "    </tr>\n",
       "    <tr>\n",
       "      <th>5</th>\n",
       "      <td>43.6</td>\n",
       "      <td>42.403290</td>\n",
       "    </tr>\n",
       "    <tr>\n",
       "      <th>6</th>\n",
       "      <td>43.6</td>\n",
       "      <td>45.699494</td>\n",
       "    </tr>\n",
       "    <tr>\n",
       "      <th>7</th>\n",
       "      <td>46.4</td>\n",
       "      <td>46.081160</td>\n",
       "    </tr>\n",
       "    <tr>\n",
       "      <th>8</th>\n",
       "      <td>43.6</td>\n",
       "      <td>42.056321</td>\n",
       "    </tr>\n",
       "    <tr>\n",
       "      <th>9</th>\n",
       "      <td>43.6</td>\n",
       "      <td>45.872979</td>\n",
       "    </tr>\n",
       "    <tr>\n",
       "      <th>10</th>\n",
       "      <td>43.6</td>\n",
       "      <td>45.872979</td>\n",
       "    </tr>\n",
       "    <tr>\n",
       "      <th>11</th>\n",
       "      <td>43.6</td>\n",
       "      <td>38.933601</td>\n",
       "    </tr>\n",
       "    <tr>\n",
       "      <th>12</th>\n",
       "      <td>43.6</td>\n",
       "      <td>43.270712</td>\n",
       "    </tr>\n",
       "    <tr>\n",
       "      <th>13</th>\n",
       "      <td>43.6</td>\n",
       "      <td>42.403290</td>\n",
       "    </tr>\n",
       "    <tr>\n",
       "      <th>14</th>\n",
       "      <td>40.3</td>\n",
       "      <td>42.108366</td>\n",
       "    </tr>\n",
       "    <tr>\n",
       "      <th>15</th>\n",
       "      <td>43.6</td>\n",
       "      <td>43.201318</td>\n",
       "    </tr>\n",
       "    <tr>\n",
       "      <th>16</th>\n",
       "      <td>43.6</td>\n",
       "      <td>43.270712</td>\n",
       "    </tr>\n",
       "    <tr>\n",
       "      <th>17</th>\n",
       "      <td>47.4</td>\n",
       "      <td>44.398361</td>\n",
       "    </tr>\n",
       "    <tr>\n",
       "      <th>18</th>\n",
       "      <td>43.6</td>\n",
       "      <td>52.638872</td>\n",
       "    </tr>\n",
       "    <tr>\n",
       "      <th>19</th>\n",
       "      <td>43.6</td>\n",
       "      <td>46.393432</td>\n",
       "    </tr>\n",
       "    <tr>\n",
       "      <th>20</th>\n",
       "      <td>43.6</td>\n",
       "      <td>43.791165</td>\n",
       "    </tr>\n",
       "    <tr>\n",
       "      <th>21</th>\n",
       "      <td>43.6</td>\n",
       "      <td>40.321476</td>\n",
       "    </tr>\n",
       "    <tr>\n",
       "      <th>22</th>\n",
       "      <td>12.3</td>\n",
       "      <td>40.720491</td>\n",
       "    </tr>\n",
       "    <tr>\n",
       "      <th>23</th>\n",
       "      <td>43.6</td>\n",
       "      <td>42.403290</td>\n",
       "    </tr>\n",
       "    <tr>\n",
       "      <th>24</th>\n",
       "      <td>43.6</td>\n",
       "      <td>49.342667</td>\n",
       "    </tr>\n",
       "    <tr>\n",
       "      <th>25</th>\n",
       "      <td>43.6</td>\n",
       "      <td>41.188899</td>\n",
       "    </tr>\n",
       "    <tr>\n",
       "      <th>26</th>\n",
       "      <td>54.7</td>\n",
       "      <td>45.838282</td>\n",
       "    </tr>\n",
       "    <tr>\n",
       "      <th>27</th>\n",
       "      <td>43.6</td>\n",
       "      <td>47.260854</td>\n",
       "    </tr>\n",
       "    <tr>\n",
       "      <th>28</th>\n",
       "      <td>43.6</td>\n",
       "      <td>41.709352</td>\n",
       "    </tr>\n",
       "    <tr>\n",
       "      <th>29</th>\n",
       "      <td>43.6</td>\n",
       "      <td>52.638872</td>\n",
       "    </tr>\n",
       "  </tbody>\n",
       "</table>\n",
       "</div>"
      ],
      "text/plain": [
       "    Actual  Predicted\n",
       "0      5.0  41.934882\n",
       "1     43.6  43.097228\n",
       "2     81.2  53.211371\n",
       "3     43.6  43.444196\n",
       "4     43.6  42.403290\n",
       "5     43.6  42.403290\n",
       "6     43.6  45.699494\n",
       "7     46.4  46.081160\n",
       "8     43.6  42.056321\n",
       "9     43.6  45.872979\n",
       "10    43.6  45.872979\n",
       "11    43.6  38.933601\n",
       "12    43.6  43.270712\n",
       "13    43.6  42.403290\n",
       "14    40.3  42.108366\n",
       "15    43.6  43.201318\n",
       "16    43.6  43.270712\n",
       "17    47.4  44.398361\n",
       "18    43.6  52.638872\n",
       "19    43.6  46.393432\n",
       "20    43.6  43.791165\n",
       "21    43.6  40.321476\n",
       "22    12.3  40.720491\n",
       "23    43.6  42.403290\n",
       "24    43.6  49.342667\n",
       "25    43.6  41.188899\n",
       "26    54.7  45.838282\n",
       "27    43.6  47.260854\n",
       "28    43.6  41.709352\n",
       "29    43.6  52.638872"
      ]
     },
     "execution_count": 30,
     "metadata": {},
     "output_type": "execute_result"
    }
   ],
   "source": [
    "# Creating a dataframe comparing the actual and predicted values of y.\n",
    "\n",
    "data = pd.DataFrame({'Actual': y_test.flatten(), 'Predicted': y_predicted.flatten()})\n",
    "data.head(30)"
   ]
  },
  {
   "cell_type": "markdown",
   "id": "907f9d10",
   "metadata": {},
   "source": [
    "This output shows there is some differences between the actual and predicted values. \n",
    "\n",
    "This evidence that the model does not explain with a high level of accuracy the relationship between the “Government Integrity' and the 'Judicial Effectiveness” variables. \n",
    "\n",
    "The relationship doesn’t follow a straight regression line, perhaps further analysis should be indicated to analyse \n",
    "outliers or other variables.**"
   ]
  },
  {
   "cell_type": "code",
   "execution_count": 31,
   "id": "11269ac7",
   "metadata": {},
   "outputs": [],
   "source": [
    "# Comparing how the regression fits the training set\n",
    "\n",
    "y_predicted_train = regression.predict(X_train) # This is predicting X_train!"
   ]
  },
  {
   "cell_type": "code",
   "execution_count": 32,
   "id": "fade056c",
   "metadata": {},
   "outputs": [],
   "source": [
    "# Checking the accuracy of the model.\n",
    "\n",
    "rmse = mean_squared_error(y_train, y_predicted_train)\n",
    "r2 = r2_score(y_train, y_predicted_train)"
   ]
  },
  {
   "cell_type": "code",
   "execution_count": 33,
   "id": "c2fbbaa5",
   "metadata": {},
   "outputs": [
    {
     "name": "stdout",
     "output_type": "stream",
     "text": [
      "Slope: [[0.17348444]]\n",
      "Mean squared error:  84.0977528548612\n",
      "R2 score:  0.1416105566544088\n"
     ]
    }
   ],
   "source": [
    "# Printing the model's statistics results. \n",
    "\n",
    "print('Slope:' ,regression.coef_)\n",
    "print('Mean squared error: ', rmse)\n",
    "print('R2 score: ', r2)\n"
   ]
  },
  {
   "cell_type": "code",
   "execution_count": 34,
   "id": "c9bb0ac6",
   "metadata": {},
   "outputs": [
    {
     "data": {
      "image/png": "[encoded data removed]",
      "text/plain": [
       "<Figure size 432x288 with 1 Axes>"
      ]
     },
     "metadata": {
      "needs_background": "light"
     },
     "output_type": "display_data"
    }
   ],
   "source": [
    "# Visualizing the training set results.\n",
    "\n",
    "plot_test = plt\n",
    "plot_test.scatter(X_train, y_train, color='black', s = 15)\n",
    "plot_test.plot(X_train, y_predicted_train, color='red', linewidth =3)\n",
    "plot_test.title('Government Integrity vs Judicial Effectiveness (Test set)')\n",
    "plot_test.xlabel('Government Integrity')\n",
    "plot_test.ylabel('Judicial Effectiveness')\n",
    "plot_test.show()\n"
   ]
  },
  {
   "cell_type": "markdown",
   "id": "94e1f175",
   "metadata": {},
   "source": [
    "### 06. Performance improvement after removing outliers?"
   ]
  },
  {
   "cell_type": "code",
   "execution_count": 35,
   "id": "24c9f36b",
   "metadata": {},
   "outputs": [],
   "source": [
    "# Cleaning the extreme values from the \"Government Integrity\" variable observed during the consistency checks.\n",
    "\n",
    "df_test = df_economic_freedom[df_economic_freedom['Government Integrity'] <=80] "
   ]
  },
  {
   "cell_type": "code",
   "execution_count": 36,
   "id": "a46f9ad6",
   "metadata": {},
   "outputs": [
    {
     "data": {
      "image/png": "[encoded data removed]",
      "text/plain": [
       "<Figure size 432x288 with 1 Axes>"
      ]
     },
     "metadata": {
      "needs_background": "light"
     },
     "output_type": "display_data"
    }
   ],
   "source": [
    "# Checking how the scatterplot looks without the outliers.\n",
    "\n",
    "df_test.plot(x = 'Government Integrity', y='Judicial Effectiveness', style='o')  \n",
    "plt.title('Government Integrity vs Judicial Effectiveness')  \n",
    "plt.xlabel('Government Integrity')  \n",
    "plt.ylabel('Judicial Effectiveness')  \n",
    "plt.show()\n"
   ]
  },
  {
   "cell_type": "code",
   "execution_count": 37,
   "id": "80c1205a",
   "metadata": {},
   "outputs": [],
   "source": [
    "# Reshape again.\n",
    "\n",
    "X_2 = df_test['Government Integrity'].values.reshape(-1,1)\n",
    "y_2 = df_test['Judicial Effectiveness'].values.reshape(-1,1)"
   ]
  },
  {
   "cell_type": "code",
   "execution_count": 38,
   "id": "9dc0f2ec",
   "metadata": {},
   "outputs": [],
   "source": [
    "X_train_2, X_test_2, y_train_2, y_test_2 = train_test_split(X_2, y_2, test_size=0.3, random_state=0)"
   ]
  },
  {
   "cell_type": "code",
   "execution_count": 39,
   "id": "846e0522",
   "metadata": {},
   "outputs": [
    {
     "data": {
      "text/plain": [
       "LinearRegression()"
      ]
     },
     "execution_count": 39,
     "metadata": {},
     "output_type": "execute_result"
    }
   ],
   "source": [
    "# Run and fit the regression.\n",
    "\n",
    "regression = LinearRegression()  \n",
    "regression.fit(X_train_2, y_train_2)"
   ]
  },
  {
   "cell_type": "code",
   "execution_count": 40,
   "id": "ec30cea4",
   "metadata": {},
   "outputs": [],
   "source": [
    "# Predict.\n",
    "\n",
    "y_predicted_2 = regression.predict(X_test_2)"
   ]
  },
  {
   "cell_type": "code",
   "execution_count": 41,
   "id": "d1787da1",
   "metadata": {},
   "outputs": [],
   "source": [
    "rmse = mean_squared_error(y_test_2, y_predicted_2)\n",
    "r2 = r2_score(y_test_2, y_predicted_2)"
   ]
  },
  {
   "cell_type": "code",
   "execution_count": 42,
   "id": "f3e54887",
   "metadata": {},
   "outputs": [
    {
     "name": "stdout",
     "output_type": "stream",
     "text": [
      "Slope: [[0.17241886]]\n",
      "Mean squared error:  64.50493205901782\n",
      "R2 score:  0.11433754071991631\n"
     ]
    }
   ],
   "source": [
    "print('Slope:' ,regression.coef_)\n",
    "print('Mean squared error: ', rmse)\n",
    "print('R2 score: ', r2)"
   ]
  },
  {
   "cell_type": "code",
   "execution_count": 43,
   "id": "d47e09cd",
   "metadata": {},
   "outputs": [
    {
     "data": {
      "image/png": "[encoded data removed]",
      "text/plain": [
       "<Figure size 432x288 with 1 Axes>"
      ]
     },
     "metadata": {
      "needs_background": "light"
     },
     "output_type": "display_data"
    }
   ],
   "source": [
    "# Visualizing the test set results.\n",
    "\n",
    "plot_test = plt\n",
    "plot_test.scatter(X_test, y_test, color='black', s = 15)\n",
    "plot_test.plot(X_train, regression.predict(X_train), color='red', linewidth =3)\n",
    "plot_test.title('Government Integrity vs Judicial Effectiveness (Test set)')\n",
    "plot_test.xlabel('Government Integrity')\n",
    "plot_test.ylabel('Judicial Effectiveness')\n",
    "plot_test.show()\n"
   ]
  },
  {
   "cell_type": "code",
   "execution_count": 44,
   "id": "eb99bb26",
   "metadata": {},
   "outputs": [],
   "source": [
    "data = pd.DataFrame({'Actual': y_test_2.flatten(), 'Predicted': y_predicted_2.flatten()})\n"
   ]
  },
  {
   "cell_type": "code",
   "execution_count": 45,
   "id": "97cd3a5e",
   "metadata": {},
   "outputs": [
    {
     "data": {
      "text/html": [
       "<div>\n",
       "<style scoped>\n",
       "    .dataframe tbody tr th:only-of-type {\n",
       "        vertical-align: middle;\n",
       "    }\n",
       "\n",
       "    .dataframe tbody tr th {\n",
       "        vertical-align: top;\n",
       "    }\n",
       "\n",
       "    .dataframe thead th {\n",
       "        text-align: right;\n",
       "    }\n",
       "</style>\n",
       "<table border=\"1\" class=\"dataframe\">\n",
       "  <thead>\n",
       "    <tr style=\"text-align: right;\">\n",
       "      <th></th>\n",
       "      <th>Actual</th>\n",
       "      <th>Predicted</th>\n",
       "    </tr>\n",
       "  </thead>\n",
       "  <tbody>\n",
       "    <tr>\n",
       "      <th>0</th>\n",
       "      <td>43.6</td>\n",
       "      <td>43.444763</td>\n",
       "    </tr>\n",
       "    <tr>\n",
       "      <th>1</th>\n",
       "      <td>43.6</td>\n",
       "      <td>44.479276</td>\n",
       "    </tr>\n",
       "    <tr>\n",
       "      <th>2</th>\n",
       "      <td>43.6</td>\n",
       "      <td>46.375883</td>\n",
       "    </tr>\n",
       "    <tr>\n",
       "      <th>3</th>\n",
       "      <td>43.6</td>\n",
       "      <td>40.341223</td>\n",
       "    </tr>\n",
       "    <tr>\n",
       "      <th>4</th>\n",
       "      <td>66.2</td>\n",
       "      <td>48.203523</td>\n",
       "    </tr>\n",
       "    <tr>\n",
       "      <th>5</th>\n",
       "      <td>72.7</td>\n",
       "      <td>49.082860</td>\n",
       "    </tr>\n",
       "    <tr>\n",
       "      <th>6</th>\n",
       "      <td>43.6</td>\n",
       "      <td>42.237831</td>\n",
       "    </tr>\n",
       "    <tr>\n",
       "      <th>7</th>\n",
       "      <td>43.6</td>\n",
       "      <td>43.030957</td>\n",
       "    </tr>\n",
       "    <tr>\n",
       "      <th>8</th>\n",
       "      <td>43.6</td>\n",
       "      <td>42.927506</td>\n",
       "    </tr>\n",
       "    <tr>\n",
       "      <th>9</th>\n",
       "      <td>43.6</td>\n",
       "      <td>42.237831</td>\n",
       "    </tr>\n",
       "    <tr>\n",
       "      <th>10</th>\n",
       "      <td>43.6</td>\n",
       "      <td>41.375736</td>\n",
       "    </tr>\n",
       "    <tr>\n",
       "      <th>11</th>\n",
       "      <td>43.6</td>\n",
       "      <td>41.892993</td>\n",
       "    </tr>\n",
       "    <tr>\n",
       "      <th>12</th>\n",
       "      <td>32.1</td>\n",
       "      <td>44.496518</td>\n",
       "    </tr>\n",
       "    <tr>\n",
       "      <th>13</th>\n",
       "      <td>30.0</td>\n",
       "      <td>41.341253</td>\n",
       "    </tr>\n",
       "    <tr>\n",
       "      <th>14</th>\n",
       "      <td>43.6</td>\n",
       "      <td>43.030957</td>\n",
       "    </tr>\n",
       "    <tr>\n",
       "      <th>15</th>\n",
       "      <td>43.6</td>\n",
       "      <td>48.962166</td>\n",
       "    </tr>\n",
       "    <tr>\n",
       "      <th>16</th>\n",
       "      <td>43.6</td>\n",
       "      <td>49.307004</td>\n",
       "    </tr>\n",
       "    <tr>\n",
       "      <th>17</th>\n",
       "      <td>43.6</td>\n",
       "      <td>43.272344</td>\n",
       "    </tr>\n",
       "    <tr>\n",
       "      <th>18</th>\n",
       "      <td>43.6</td>\n",
       "      <td>43.030957</td>\n",
       "    </tr>\n",
       "    <tr>\n",
       "      <th>19</th>\n",
       "      <td>35.3</td>\n",
       "      <td>41.237801</td>\n",
       "    </tr>\n",
       "    <tr>\n",
       "      <th>20</th>\n",
       "      <td>43.6</td>\n",
       "      <td>40.686061</td>\n",
       "    </tr>\n",
       "    <tr>\n",
       "      <th>21</th>\n",
       "      <td>43.6</td>\n",
       "      <td>45.686208</td>\n",
       "    </tr>\n",
       "    <tr>\n",
       "      <th>22</th>\n",
       "      <td>43.6</td>\n",
       "      <td>42.237831</td>\n",
       "    </tr>\n",
       "    <tr>\n",
       "      <th>23</th>\n",
       "      <td>43.6</td>\n",
       "      <td>43.030957</td>\n",
       "    </tr>\n",
       "    <tr>\n",
       "      <th>24</th>\n",
       "      <td>43.6</td>\n",
       "      <td>49.307004</td>\n",
       "    </tr>\n",
       "    <tr>\n",
       "      <th>25</th>\n",
       "      <td>43.6</td>\n",
       "      <td>42.461975</td>\n",
       "    </tr>\n",
       "    <tr>\n",
       "      <th>26</th>\n",
       "      <td>43.6</td>\n",
       "      <td>38.789453</td>\n",
       "    </tr>\n",
       "    <tr>\n",
       "      <th>27</th>\n",
       "      <td>43.6</td>\n",
       "      <td>42.237831</td>\n",
       "    </tr>\n",
       "    <tr>\n",
       "      <th>28</th>\n",
       "      <td>48.7</td>\n",
       "      <td>43.099925</td>\n",
       "    </tr>\n",
       "    <tr>\n",
       "      <th>29</th>\n",
       "      <td>43.6</td>\n",
       "      <td>41.720574</td>\n",
       "    </tr>\n",
       "  </tbody>\n",
       "</table>\n",
       "</div>"
      ],
      "text/plain": [
       "    Actual  Predicted\n",
       "0     43.6  43.444763\n",
       "1     43.6  44.479276\n",
       "2     43.6  46.375883\n",
       "3     43.6  40.341223\n",
       "4     66.2  48.203523\n",
       "5     72.7  49.082860\n",
       "6     43.6  42.237831\n",
       "7     43.6  43.030957\n",
       "8     43.6  42.927506\n",
       "9     43.6  42.237831\n",
       "10    43.6  41.375736\n",
       "11    43.6  41.892993\n",
       "12    32.1  44.496518\n",
       "13    30.0  41.341253\n",
       "14    43.6  43.030957\n",
       "15    43.6  48.962166\n",
       "16    43.6  49.307004\n",
       "17    43.6  43.272344\n",
       "18    43.6  43.030957\n",
       "19    35.3  41.237801\n",
       "20    43.6  40.686061\n",
       "21    43.6  45.686208\n",
       "22    43.6  42.237831\n",
       "23    43.6  43.030957\n",
       "24    43.6  49.307004\n",
       "25    43.6  42.461975\n",
       "26    43.6  38.789453\n",
       "27    43.6  42.237831\n",
       "28    48.7  43.099925\n",
       "29    43.6  41.720574"
      ]
     },
     "execution_count": 45,
     "metadata": {},
     "output_type": "execute_result"
    }
   ],
   "source": [
    "data.head(30)"
   ]
  },
  {
   "cell_type": "markdown",
   "id": "507a8ba5",
   "metadata": {},
   "source": [
    "There are some observation with high difference between the actual and predicted values, but there are others with close values. Although the scatterplot shows a good correlation between the variables, the model's statistics results show that the linear regression model doesn't seem to be a good fit."
   ]
  },
  {
   "cell_type": "code",
   "execution_count": null,
   "id": "a734328f",
   "metadata": {},
   "outputs": [],
   "source": []
  }
 ],
 "metadata": {
  "kernelspec": {
   "display_name": "Python 3",
   "language": "python",
   "name": "python3"
  },
  "language_info": {
   "codemirror_mode": {
    "name": "ipython",
    "version": 3
   },
   "file_extension": ".py",
   "mimetype": "text/x-python",
   "name": "python",
   "nbconvert_exporter": "python",
   "pygments_lexer": "ipython3",
   "version": "3.8.8"
  }
 },
 "nbformat": 4,
 "nbformat_minor": 5
}
